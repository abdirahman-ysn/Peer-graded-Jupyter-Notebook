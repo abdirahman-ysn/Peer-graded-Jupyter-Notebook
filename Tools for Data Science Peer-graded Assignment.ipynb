{
 "cells": [
  {
   "cell_type": "markdown",
   "metadata": {},
   "source": [
    "<center>\n",
    "    <img src=\"https://cf-courses-data.s3.us.cloud-object-storage.appdomain.cloud/IBMDeveloperSkillsNetwork-DS0105EN-SkillsNetwork/labs/Module2/images/SN_web_lightmode.png\" width=\"300\" alt=\"cognitiveclass.ai logo\"  />\n",
    "</center>\n"
   ]
  },
  {
   "cell_type": "markdown",
   "metadata": {},
   "source": [
    "#### Add your code below following the instructions given in the course\n"
   ]
  },
  {
   "cell_type": "markdown",
   "metadata": {},
   "source": [
    "<H1>My Jupyter Notebook on IBM Watson Studio<H1>\n"
   ]
  },
  {
   "cell_type": "markdown",
   "metadata": {},
   "source": [
    "<b>Abdirahman Yasin Aden </b><br>Data Scientist "
   ]
  },
  {
   "cell_type": "markdown",
   "metadata": {},
   "source": [
    "<i>I am interested in data science because data i want to become a datascietist under the industry of Real Estate ,I want to be able help clients to make make best real Estate investments\n",
    ", having huge command of Data science it will personally help me to make good business decisions. <i>"
   ]
  },
  {
   "cell_type": "markdown",
   "metadata": {},
   "source": [
    "<h3>The Following Code will Display today's time and date</h3> "
   ]
  },
  {
   "cell_type": "markdown",
   "metadata": {},
   "source": [
    "he following code sets a numeric variable to 0, then adds 1 to the variable. The value is printed in a sentence."
   ]
  },
  {
   "cell_type": "code",
   "execution_count": 4,
   "metadata": {},
   "outputs": [
    {
     "name": "stdout",
     "output_type": "stream",
     "text": [
      "The value of a is 1\n"
     ]
    }
   ],
   "source": [
    "a= 0\n",
    "a= a + 1\n",
    "print(\"The value of a is\", a)"
   ]
  },
  {
   "cell_type": "code",
   "execution_count": 5,
   "metadata": {},
   "outputs": [
    {
     "name": "stdout",
     "output_type": "stream",
     "text": [
      "Today's Date and Time is  2023-01-10 17:36:10.733141\n"
     ]
    }
   ],
   "source": [
    "import datetime \n",
    "message = \"Today's Date and Time is \" \n",
    "print (message , datetime.datetime.now() )"
   ]
  },
  {
   "cell_type": "markdown",
   "metadata": {},
   "source": [
    "<html>\n",
    "<header>\n",
    "</header>\n",
    "\n",
    "<body>\n",
    "    <section>\n",
    "        <h1> My favourite Fruits</h1>\n",
    "        <ol>\n",
    "            <li>Milk</li>\n",
    "            <li>o</li>\n",
    "            <li>Orange</li>\n",
    "            <li>Mango</li>\n",
    "            <li>Grapes</li>\n",
    "        </ol>\n",
    "        <hr>\n",
    "        <table border=\"1px\">\n",
    "            <tr>\n",
    "                <td><b>Needs</b></td>\n",
    "                <td><b>Wants</b></td>\n",
    "            </tr>\n",
    "            <tr>\n",
    "                <td>Water</td>\n",
    "                <td>Car</td>\n",
    "            </tr>\n",
    "            <tr>\n",
    "                <td>Food</td>\n",
    "                <td>Phone</td>\n",
    "            </tr>\n",
    "            <tr>\n",
    "                <td>Education</td>\n",
    "                <td>Computer</td>\n",
    "            </tr>\n",
    "            <tr>\n",
    "                <td>Medicine</td>\n",
    "                <td>Television</td>\n",
    "            </tr>\n",
    "        </table>\n",
    "        <br>\n",
    "        <hr>\n",
    "    </section>\n",
    "    <footer>\n",
    "        <a href=\"https://web.facebook.com/\">https://web.facebook.com/</a>\n",
    "    </footer>\n",
    "</body>\n",
    "</html>"
   ]
  },
  {
   "cell_type": "code",
   "execution_count": null,
   "metadata": {},
   "outputs": [],
   "source": []
  }
 ],
 "metadata": {
  "kernelspec": {
   "display_name": "Python 3 (ipykernel)",
   "language": "python",
   "name": "python3"
  },
  "language_info": {
   "codemirror_mode": {
    "name": "ipython",
    "version": 3
   },
   "file_extension": ".py",
   "mimetype": "text/x-python",
   "name": "python",
   "nbconvert_exporter": "python",
   "pygments_lexer": "ipython3",
   "version": "3.9.7"
  }
 },
 "nbformat": 4,
 "nbformat_minor": 4
}
